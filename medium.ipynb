{
 "cells": [
  {
   "cell_type": "code",
   "execution_count": 20,
   "metadata": {},
   "outputs": [],
   "source": [
    "import pandas as pd\n",
    "import numpy as np\n",
    "\n"
   ]
  },
  {
   "cell_type": "markdown",
   "metadata": {},
   "source": [
    "### Advanced Indexing"
   ]
  },
  {
   "cell_type": "code",
   "execution_count": 21,
   "metadata": {},
   "outputs": [],
   "source": [
    "\n",
    "# Creating a sample DataFrame\n",
    "data = {\n",
    "    'Name': ['Alice', 'Bob', 'Charlie', 'David', 'Emma'],\n",
    "    'Age': [25, 30, 35, 28, 40],\n",
    "    'Gender': ['Female', 'Male', 'Male', 'Male', 'Female'],\n",
    "    'Salary': [50000, 60000, 70000, 55000, 75000],\n",
    "    'Department': ['HR', 'IT', 'Finance', 'IT', 'Marketing'],\n",
    "    'Experience': [3, 5, 7, 4, 6]\n",
    "}\n",
    "df = pd.DataFrame(data)\n",
    "\n",
    "\n",
    "df\n",
    "\n",
    "# Boolean indexing\n",
    "subset = df[df['Age'] > 18]\n",
    "\n",
    "# Selecting rows and columns by label\n",
    "subset = df.loc[df['Age'] > 18, ['Name', 'Age']]\n",
    "\n",
    "# Selecting rows and columns by integer position\n",
    "subset = df.iloc[2:5, 0:2]\n",
    "\n",
    "# Fast scalar value access\n",
    "value = df.at[0, 'Age']\n"
   ]
  },
  {
   "cell_type": "markdown",
   "metadata": {},
   "source": [
    "### Handling Time Series Data"
   ]
  },
  {
   "cell_type": "code",
   "execution_count": 22,
   "metadata": {},
   "outputs": [
    {
     "name": "stdout",
     "output_type": "stream",
     "text": [
      "DataFrame with Shifted and Rolling Mean columns:\n",
      "        Date  Value  Shifted_Value  Rolling_Mean\n",
      "0 2024-01-01      1            NaN           NaN\n",
      "1 2024-01-02      2            1.0           NaN\n",
      "2 2024-01-03      3            2.0           2.0\n",
      "3 2024-01-04      4            3.0           3.0\n",
      "4 2024-01-05      5            4.0           4.0\n",
      "5 2024-01-06      6            5.0           5.0\n",
      "6 2024-01-07      7            6.0           6.0\n",
      "7 2024-01-08      8            7.0           7.0\n",
      "8 2024-01-09      9            8.0           8.0\n",
      "9 2024-01-10     10            9.0           9.0\n"
     ]
    }
   ],
   "source": [
    "# Creating a sample DataFrame\n",
    "data = {\n",
    "    'Date': pd.date_range('2024-01-01', periods=10),\n",
    "    'Value': [1, 2, 3, 4, 5, 6, 7, 8, 9, 10]\n",
    "}\n",
    "df = pd.DataFrame(data)\n",
    "\n",
    "# Shifting data\n",
    "df['Shifted_Value'] = df['Value'].shift(1)\n",
    "\n",
    "# Rolling window calculations\n",
    "df['Rolling_Mean'] = df['Value'].rolling(window=3).mean()\n",
    "\n",
    "# Printing the DataFrame\n",
    "print(\"DataFrame with Shifted and Rolling Mean columns:\")\n",
    "print(df)"
   ]
  },
  {
   "cell_type": "markdown",
   "metadata": {},
   "source": [
    "### Reshaping Dat"
   ]
  },
  {
   "cell_type": "code",
   "execution_count": 23,
   "metadata": {},
   "outputs": [
    {
     "name": "stdout",
     "output_type": "stream",
     "text": [
      "Pivot Table:\n",
      "Column_to_Pivot    X    Y\n",
      "Index_Column             \n",
      "A                1.0  2.0\n",
      "B                3.0  4.0\n",
      "\n",
      "Melted DataFrame:\n",
      "  Index_Column         Variable Value\n",
      "0            A  Column_to_Pivot     X\n",
      "1            A  Column_to_Pivot     Y\n",
      "2            B  Column_to_Pivot     X\n",
      "3            B  Column_to_Pivot     Y\n",
      "4            A     Value_Column     1\n",
      "5            A     Value_Column     2\n",
      "6            B     Value_Column     3\n",
      "7            B     Value_Column     4\n",
      "\n",
      "Stacked DataFrame:\n",
      "Index_Column  Column_to_Pivot              \n",
      "A             X                Value_Column    1\n",
      "              Y                Value_Column    2\n",
      "B             X                Value_Column    3\n",
      "              Y                Value_Column    4\n",
      "dtype: int64\n",
      "\n",
      "Unstacked DataFrame:\n",
      "                Value_Column   \n",
      "Column_to_Pivot            X  Y\n",
      "Index_Column                   \n",
      "A                          1  2\n",
      "B                          3  4\n"
     ]
    }
   ],
   "source": [
    "import pandas as pd\n",
    "import numpy as np\n",
    "\n",
    "# Creating a sample DataFrame\n",
    "data = {\n",
    "    'Index_Column': ['A', 'A', 'B', 'B'],\n",
    "    'Column_to_Pivot': ['X', 'Y', 'X', 'Y'],\n",
    "    'Value_Column': [1, 2, 3, 4]\n",
    "}\n",
    "df = pd.DataFrame(data)\n",
    "\n",
    "# Pivot table\n",
    "pivot_table = df.pivot_table(index='Index_Column', columns='Column_to_Pivot', values='Value_Column', aggfunc='mean')\n",
    "\n",
    "# Melting\n",
    "melted_df = pd.melt(df, id_vars=['Index_Column'], value_vars=['Column_to_Pivot', 'Value_Column'], var_name='Variable', value_name='Value')\n",
    "\n",
    "# Stacking and unstacking\n",
    "stacked = df.set_index(['Index_Column', 'Column_to_Pivot']).stack()\n",
    "unstacked = df.set_index(['Index_Column', 'Column_to_Pivot']).unstack()\n",
    "\n",
    "# Printing the results\n",
    "print(\"Pivot Table:\")\n",
    "print(pivot_table)\n",
    "\n",
    "print(\"\\nMelted DataFrame:\")\n",
    "print(melted_df)\n",
    "\n",
    "print(\"\\nStacked DataFrame:\")\n",
    "print(stacked)\n",
    "\n",
    "print(\"\\nUnstacked DataFrame:\")\n",
    "print(unstacked)\n"
   ]
  },
  {
   "cell_type": "markdown",
   "metadata": {},
   "source": [
    "### Custom Functions"
   ]
  },
  {
   "cell_type": "code",
   "execution_count": 24,
   "metadata": {},
   "outputs": [
    {
     "name": "stdout",
     "output_type": "stream",
     "text": [
      "DataFrame with New_Column and element-wise custom function applied:\n",
      "   Column  New_Column\n",
      "0       1           1\n",
      "1       4          16\n",
      "2       9          81\n",
      "3      16         256\n",
      "4      25         625\n"
     ]
    },
    {
     "name": "stderr",
     "output_type": "stream",
     "text": [
      "/var/folders/7h/7r7g8fn16d535nk1c5wprjfm0000gn/T/ipykernel_7470/2801279004.py:15: FutureWarning: DataFrame.applymap has been deprecated. Use DataFrame.map instead.\n",
      "  df = df.applymap(lambda x: custom_function(x))\n"
     ]
    }
   ],
   "source": [
    "# Define a custom function\n",
    "def custom_function(x):\n",
    "    return x ** 2\n",
    "\n",
    "# Creating a sample DataFrame\n",
    "data = {\n",
    "    'Column': [1, 2, 3, 4, 5]\n",
    "}\n",
    "df = pd.DataFrame(data)\n",
    "\n",
    "# Apply function to column\n",
    "df['New_Column'] = df['Column'].apply(lambda x: custom_function(x))\n",
    "\n",
    "# Apply function element-wise\n",
    "df = df.applymap(lambda x: custom_function(x))\n",
    "\n",
    "# Printing the DataFrame\n",
    "print(\"DataFrame with New_Column and element-wise custom function applied:\")\n",
    "print(df)"
   ]
  },
  {
   "cell_type": "markdown",
   "metadata": {},
   "source": [
    "### Categorical Data Handling"
   ]
  },
  {
   "cell_type": "code",
   "execution_count": 25,
   "metadata": {},
   "outputs": [
    {
     "name": "stdout",
     "output_type": "stream",
     "text": [
      "Value counts of Categorical_Column:\n",
      "Categorical_Column\n",
      "A    4\n",
      "B    2\n",
      "C    2\n",
      "Name: count, dtype: int64\n"
     ]
    }
   ],
   "source": [
    "# Creating a sample DataFrame\n",
    "data = {\n",
    "    'Categorical_Column': ['A', 'B', 'A', 'C', 'B', 'A', 'A', 'C']\n",
    "}\n",
    "df = pd.DataFrame(data)\n",
    "\n",
    "# Converting column to categorical type\n",
    "df['Categorical_Column'] = df['Categorical_Column'].astype('category')\n",
    "\n",
    "# Using categorical data for better memory usage and speed\n",
    "value_counts = df['Categorical_Column'].value_counts()\n",
    "\n",
    "# Printing the value counts\n",
    "print(\"Value counts of Categorical_Column:\")\n",
    "print(value_counts)"
   ]
  },
  {
   "cell_type": "markdown",
   "metadata": {},
   "source": [
    "### Working with Large Data"
   ]
  },
  {
   "cell_type": "code",
   "execution_count": 26,
   "metadata": {},
   "outputs": [
    {
     "name": "stdout",
     "output_type": "stream",
     "text": [
      "Processing chunk with shape: (5, 4)\n"
     ]
    }
   ],
   "source": [
    "# Define a function to process each chunk\n",
    "def process(chunk):\n",
    "    # Add your processing logic here\n",
    "    print(\"Processing chunk with shape:\", chunk.shape)\n",
    "\n",
    "# Reading data in chunks\n",
    "chunk_iterator = pd.read_csv('data.csv', chunksize=1000)\n",
    "for chunk in chunk_iterator:\n",
    "    process(chunk)"
   ]
  },
  {
   "cell_type": "markdown",
   "metadata": {},
   "source": [
    "### Method Chaining"
   ]
  },
  {
   "cell_type": "code",
   "execution_count": 27,
   "metadata": {},
   "outputs": [
    {
     "name": "stdout",
     "output_type": "stream",
     "text": [
      "Mean values for each group in 'Column2' after filtering 'Column1' values > 0:\n",
      "          Column1     Value1      Value2\n",
      "Column2                                 \n",
      "A        2.666667  36.666667  366.666667\n",
      "B        3.500000  50.000000  500.000000\n"
     ]
    }
   ],
   "source": [
    "# Creating a sample DataFrame\n",
    "data = {\n",
    "    'Column1': [1, 2, 3, -1, -2, -3, 4, 5],\n",
    "    'Column2': ['A', 'B', 'A', 'B', 'A', 'B', 'A', 'B'],\n",
    "    'Value1': [10, 20, 30, 40, 50, 60, 70, 80],\n",
    "    'Value2': [100, 200, 300, 400, 500, 600, 700, 800]\n",
    "}\n",
    "df = pd.DataFrame(data)\n",
    "\n",
    "# Perform the query, group by 'Column2', and calculate the mean\n",
    "result = df.query('Column1 > 0').groupby('Column2').mean()\n",
    "\n",
    "# Print the result\n",
    "print(\"Mean values for each group in 'Column2' after filtering 'Column1' values > 0:\")\n",
    "print(result)"
   ]
  }
 ],
 "metadata": {
  "kernelspec": {
   "display_name": ".venv",
   "language": "python",
   "name": "python3"
  },
  "language_info": {
   "codemirror_mode": {
    "name": "ipython",
    "version": 3
   },
   "file_extension": ".py",
   "mimetype": "text/x-python",
   "name": "python",
   "nbconvert_exporter": "python",
   "pygments_lexer": "ipython3",
   "version": "3.12.2"
  }
 },
 "nbformat": 4,
 "nbformat_minor": 2
}
